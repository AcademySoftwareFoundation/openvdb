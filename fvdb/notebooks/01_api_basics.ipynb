{
 "cells": [
  {
   "cell_type": "markdown",
   "metadata": {},
   "source": [
    "### GridBatch and JaggedTensor\n",
    "There are two fundamental classes in fVDB you will encounter frequently: `GridBatch` and `JaggedTensor`.\n",
    "\n",
    "```python\n",
    "fvdb.GridBatch\n",
    "fvdb.JaggedTensor\n",
    "```"
   ]
  },
  {
   "cell_type": "markdown",
   "metadata": {},
   "source": [
    "#### GridBatch\n",
    "\n",
    "A `GridBatch` is an indexing structure which maps the 3D $ijk$ coordinates of a set of **sparse** grids to integer offsets which can be used to look up elements in a data tensor that correspond with each voxel.\n",
    "\n",
    "This mapping only exists for $ijk$ coordinates which are **active** in the space of a **sparse**, 3D grid.\n",
    "\n",
    "&#x1F4A1; We call these 3D grids **sparse** because of this arbitrary nature to the topology of **active** voxels in the grid compared to **dense** grids where all voxels exist inside some regular extents in each dimension.\n",
    "\n",
    "The figure below illustrates this $ijk$ mapping process for a `GridBatch` containing only a single grid.\n",
    "\n",
    "\n",
    "<center>\n",
    "\n",
    "<img src=\"img/gridbatch.svg\"  alt=\"Image Index Grid\" width=\"800\"/>\n",
    "\n",
    "</center>\n",
    "\n",
    "In practice, `GridBatch` is an ordered collection of 1 or more of these 3D grids.  \n",
    "\n",
    "&#x1F529;\tAt the level of technical implementation, these 3D grids are [**NanoVDB**](https://academysoftwarefoundation.github.io/openvdb/NanoVDB_MainPage.html) grids of the special `IndexGrid` type which only stores a unique **index** integer value at each active voxel location.  This **index** is an offset into some external data array, a tensor, (one that is not contained in the `IndexGrid`/`GridBatch` classes) where contiguous array members correspond to spatially nearby voxels.  `IndexGrid` will allow us to reference into this 'sidecar' tensor of data given a spatial $ijk$ set of coordinates.\n",
    "\n",
    "Each grid member in a `GridBatch` can have different topologies, different numbers of active voxels and different voxel dimensions and origins per-grid.\n",
    "\n",
    "<center>\n",
    "\n",
    "<img src=\"img/gridbatch_concept.svg\"  alt=\"Image Index Grid\" width=\"900\"/>\n",
    "\n",
    "</center>"
   ]
  },
  {
   "cell_type": "markdown",
   "metadata": {},
   "source": [
    "##### Images as 2D GridBatch\n",
    "\n",
    "\n",
    "To help explain these concepts, let's consider how we might treat image data with this framework (an image can be thought of as a dense 2D grid after all).  \n",
    "\n",
    "If an image is a 2D grid of pixels, we could imagine the position of each pixel could be expressed as $i,j$ coordinates.  For an RGB image, each pixel would contain 3 associated values $(R,G,B)$.\n",
    "\n",
    "In this way, we could decompose an image into:\n",
    "\n",
    "1.  an `IndexGrid` of $i,j$ coordinates\n",
    "2.  a tensor of size $[NumberPixels, 3]$ (the flattened RGB elements for our data tensor)\n",
    "\n",
    "The $i,j$ coordinates can be used with the `IndexGrid` to index into the list of RGB values to retrieve the RGB element for each pixel.  In our nomenclature, we'd say our data has element size 3 (RGB) and the number of elements in our data tensor is equal to the number of pixels in the image (in the illustration below the number of elements is 16).\n",
    "\n",
    "<center>\n",
    "\n",
    "<img src=\"img/image_index_grid_diagram.svg\"  alt=\"Image Index Grid\" width=\"800\"/>\n",
    "\n",
    "</center>\n",
    "\n",
    "If we had a batch of *many* images, each of different sizes, we can imagine constructing a `GridBatch` as an ordered set of their `IndexGrid`s.\n",
    "\n",
    "All the RGB elements would go into a sidecar data tensor where each array of data would have to be of a different length corresponding to the image size.  We call this list of different-length element data a **jagged tensor**.\n",
    "\n",
    "<center>\n",
    "\n",
    "<img src=\"img/grid_batch_diagram.svg\"  alt=\"Grid Batch\" width=\"600\"/>\n",
    "\n",
    "</center>\n",
    "\n",
    "This is the essence of the relationship between `GridBatch` and `JaggedTensor` in fVDB.  But more on `JaggedTensor` later…\n",
    "\n",
    "Lastly, it is important to know that each grid in the `GridBatch` will be on the same device and processed together by operators in mini-batch-like fashion.  \n",
    "\n",
    "Let's put together our first `GridBatch` to see how it works."
   ]
  },
  {
   "cell_type": "code",
   "execution_count": 1,
   "metadata": {},
   "outputs": [],
   "source": [
    "# import the usual suspects and fvdb\n",
    "import numpy as np\n",
    "import torch\n",
    "import fvdb"
   ]
  },
  {
   "cell_type": "markdown",
   "metadata": {},
   "source": [
    "We will make a `GridBatch` of 8 grids, each with a different number of active voxels and all of those voxels' positions will be chosen randomly.  Further, each grid will have a randomly chosen origin in the 3D world space and a randomly chosen voxel size."
   ]
  },
  {
   "cell_type": "code",
   "execution_count": 2,
   "metadata": {},
   "outputs": [],
   "source": [
    "batch_size = 8\n",
    "# Randomly generate different numbers of voxels we desire in each grid in our batch\n",
    "num_voxels_per_grid = [np.random.randint(100, 1_000) for _ in range(batch_size)]\n",
    "\n",
    "# A list of randomly generated 3D indices for each grid in our batch in the range [-512, 512]\n",
    "ijks = [torch.randint(-512, 512, (num_voxels_per_grid[i], 3), device=\"cuda\") for i in range(batch_size)]\n",
    "\n",
    "# Create an fvdb.GridBatch from the list of indices!!\n",
    "grid_batch = fvdb.gridbatch_from_ijk(\n",
    "    fvdb.JaggedTensor(ijks),  # We'll explain JaggedTensor in a moment…\n",
    "    # Random, different voxel sizes for each grid in our batch\n",
    "    voxel_sizes=[np.random.rand(3).tolist() for _ in range(batch_size)],\n",
    "    # Random, different grid origins for each grid in our batch\n",
    "    origins=[np.random.rand(3).tolist() for _ in range(batch_size)],\n",
    ")"
   ]
  },
  {
   "cell_type": "markdown",
   "metadata": {},
   "source": [
    "There are many more convenient ways that fVDB provides to create a `GridBatch` besides building from lists of coordinate indexes such as building a `GridBatch` from **worldspace pointclouds, meshes or dense tensors**.\n",
    "\n",
    "&#x1F4A1; The fVDB documentation has more useful examples for these cases using functions like `gridbatch_from_points`, `gridbatch_from_dense` and `gridbatch_from_mesh`."
   ]
  },
  {
   "cell_type": "code",
   "execution_count": 3,
   "metadata": {},
   "outputs": [],
   "source": [
    "# This grid will be on the GPU because the `ijks` were on that device\n",
    "assert(grid_batch.device == ijks[0].device == torch.device('cuda:0'))"
   ]
  },
  {
   "cell_type": "markdown",
   "metadata": {},
   "source": [
    "Each member of the batch has different voxel size dimensions, a different origin in space and different number of voxels"
   ]
  },
  {
   "cell_type": "code",
   "execution_count": 4,
   "metadata": {},
   "outputs": [
    {
     "name": "stdout",
     "output_type": "stream",
     "text": [
      "Grid 0 has 154 voxels,\n",
      "        voxel size of [0.8820853233337402, 0.7485278248786926, 0.13592280447483063]\n",
      "        and an origin of [0.04669933021068573, 0.6575663685798645, 0.4350457191467285]\n",
      "Grid 1 has 485 voxels,\n",
      "        voxel size of [0.8010919690132141, 0.8362209796905518, 0.13165147602558136]\n",
      "        and an origin of [0.7419846057891846, 0.6002568006515503, 0.059590213000774384]\n",
      "Grid 2 has 345 voxels,\n",
      "        voxel size of [0.0776681900024414, 0.9747209548950195, 0.5741835832595825]\n",
      "        and an origin of [0.042450230568647385, 0.9626051783561707, 0.9474310278892517]\n",
      "Grid 3 has 978 voxels,\n",
      "        voxel size of [0.40188148617744446, 0.7703567147254944, 0.3520265519618988]\n",
      "        and an origin of [0.8566922545433044, 0.6265580058097839, 0.4814351797103882]\n",
      "Grid 4 has 537 voxels,\n",
      "        voxel size of [0.5046014189720154, 0.29932141304016113, 0.6225708723068237]\n",
      "        and an origin of [0.8637191653251648, 0.055337607860565186, 0.8349815011024475]\n",
      "Grid 5 has 291 voxels,\n",
      "        voxel size of [0.4266941249370575, 0.3601488769054413, 0.19772595167160034]\n",
      "        and an origin of [0.2620242238044739, 0.42741942405700684, 0.861495316028595]\n",
      "Grid 6 has 994 voxels,\n",
      "        voxel size of [0.016076890751719475, 0.5340760946273804, 0.21600838005542755]\n",
      "        and an origin of [0.05600864067673683, 0.6903088092803955, 0.5922680497169495]\n",
      "Grid 7 has 349 voxels,\n",
      "        voxel size of [0.4398556649684906, 0.3844622075557709, 0.9080584645271301]\n",
      "        and an origin of [0.5342305898666382, 0.6431720852851868, 0.8554712533950806]\n"
     ]
    }
   ],
   "source": [
    "for i in range(grid_batch.grid_count):\n",
    "    print(f\"\"\"Grid {i} has {grid_batch.num_voxels_at(i)} voxels,\n",
    "        voxel size of {grid_batch.voxel_size_at(i).tolist()}\n",
    "        and an origin of {grid_batch.origin_at(i).tolist()}\"\"\")"
   ]
  },
  {
   "cell_type": "markdown",
   "metadata": {},
   "source": [
    "Let's examine some of the ways we can retrieve indices from a `GridBatch` based on $ijk$ coordinates."
   ]
  },
  {
   "cell_type": "code",
   "execution_count": 5,
   "metadata": {},
   "outputs": [
    {
     "name": "stdout",
     "output_type": "stream",
     "text": [
      "Grid 0, feature Index at ijk [[358, -169, -113]], world-space [[315.8332214355469, -125.8436279296875, -14.924229621887207]] : 97\n",
      "Grid 1, feature Index at ijk [[-388, -12, 461]], world-space [[-310.0816955566406, -9.434394836425781, 60.750919342041016]] : 61\n",
      "Grid 2, feature Index at ijk [[-258, -286, 306]], world-space [[-19.995941162109375, -277.80755615234375, 176.64761352539062]] : 63\n",
      "Grid 3, feature Index at ijk [[-29, -44, 376]], world-space [[-10.797870635986328, -33.269134521484375, 132.84341430664062]] : 213\n",
      "Grid 4, feature Index at ijk [[-71, -279, -303]], world-space [[-34.962982177734375, -83.45533752441406, -187.8040008544922]] : 49\n",
      "Grid 5, feature Index at ijk [[505, 422, 218]], world-space [[215.74253845214844, 152.41024780273438, 43.96575164794922]] : 288\n",
      "Grid 6, feature Index at ijk [[-223, 77, 408]], world-space [[-3.5291380882263184, 41.81416702270508, 88.72368621826172]] : 472\n",
      "Grid 7, feature Index at ijk [[-385, -375, 497]], world-space [[-168.81019592285156, -143.53016662597656, 452.1605224609375]] : 48\n"
     ]
    }
   ],
   "source": [
    "# Let's retrieve a random ijk coordinate from each of the lists we used to make the grids\n",
    "ijk_queries = fvdb.JaggedTensor([ijks[n][np.random.randint(len(ijks[n]))][None,:] for n  in range(grid_batch.grid_count)])\n",
    "\n",
    "# Use the GridBatch to get indices into the sidecar feature array from the `ijk` coordinate in each grid\n",
    "feature_indices = grid_batch.ijk_to_index(ijk_queries)\n",
    "world_positions = grid_batch.grid_to_world(ijk_queries.float())\n",
    "for i, (ijk, world_p, i_f) in enumerate(zip(ijk_queries, world_positions, feature_indices)):\n",
    "    print(f\"Grid {i}, feature Index at ijk {ijk.jdata.tolist()}, world-space {world_p.jdata.tolist()} : {i_f.jdata.item()}\")\n",
    "\n",
    "# NOTE: This GridBatch (Batch of IndexGrids) just expresses the topology of the grids and can be used to reference a sidecar flat array of features but we won't create this sidecar in this example…\n",
    "# We can get the index into this hypothetical sidecar feature array with any `ijk` coordinate (if we ask for an `ijk` not in the grid, -1 is given as the index)"
   ]
  },
  {
   "cell_type": "markdown",
   "metadata": {},
   "source": [
    "#### JaggedTensor\n",
    "\n",
    "`JaggedTensor` is the supporting element data (i.e. the 'sidecar' of data) that is paired with a `GridBatch`.  \n",
    "\n",
    "You can think of `JaggedTensor` as consisting of an ordered list of PyTorch Tensors, one for each grid in the `GridBatch`.  Same as `GridBatch`, the Tensors are all on the same device and processed together in a mini-batch. "
   ]
  },
  {
   "cell_type": "code",
   "execution_count": 6,
   "metadata": {},
   "outputs": [],
   "source": [
    "# Here we create a list of Tensors, one for each grid in the batch with its number of active voxels and 8 random features per-voxel\n",
    "list_of_features = [torch.randn(int(grid_batch.num_voxels[i]), 5, device=grid_batch.device) for i in range(grid_batch.grid_count)]\n",
    "# Now we make a JaggedTensor out of this list of heterogeneous Tensors\n",
    "features  = fvdb.JaggedTensor(list_of_features)"
   ]
  },
  {
   "cell_type": "markdown",
   "metadata": {},
   "source": [
    "In the `JaggedTensor` above, you can see how we constructed it with a list of heterogeneously sized Tensors whose shapes were of the form:\n",
    "\n",
    "$$[ [B1, E], [B2, E], [B3, E], …] ]$$\n",
    "\n",
    "where the value of $Bn$ would be the number of active voxels in each grid of the `GridBatch` and $E$ is the number of elements (5 was chosen in this case).\n",
    "\n",
    "&#x1F4A1; Note how each Tensor element in our `JaggedTensor` can have different numbers of active voxels (similar to `GridBatch`) but the same number of per-voxel elements.  This is distinctly different from the classic representation of 3D data in a PyTorch `Tensor` which is usually a homogeneously shaped Tensor of shape $[N, C, H, W, D]$ where $N$ would be the number of \"grids\" in our batch, the $C$ *channels* are equivalent to the size of the $E$ elements, and $H, W, D$ are the 3 index dimensions of a **dense** grid."
   ]
  },
  {
   "cell_type": "markdown",
   "metadata": {},
   "source": [
    "We can also directly use a `GridBatch` to derive a `JaggedTensor` to match the `GridBatch`'s specific sizing.\n",
    "\n",
    "This more concise line of code has the same effect as the code above:"
   ]
  },
  {
   "cell_type": "code",
   "execution_count": 7,
   "metadata": {},
   "outputs": [],
   "source": [
    "# From a GridBatch, a matching JaggedTensor can be created from a Tensor of shape `(total_voxels, feature_dim)`\n",
    "features = grid_batch.jagged_like(torch.randn(grid_batch.total_voxels, 5, device=grid_batch.device))"
   ]
  },
  {
   "cell_type": "markdown",
   "metadata": {},
   "source": [
    "Now that we have a `GridBatch` and a `JaggedTensor` of elements that correspond to the batch of grids, we could use the $ijk$ offsets we can obtain from the `GridBatch` to index into the `JaggedTensor` to retrieve the data for the voxels at those $ijk$'s."
   ]
  },
  {
   "cell_type": "code",
   "execution_count": 8,
   "metadata": {},
   "outputs": [
    {
     "data": {
      "text/plain": [
       "tensor([[ 0.2314,  0.3543, -0.4464, -1.3043, -0.2004],\n",
       "        [ 1.2822,  0.5833,  0.5202,  0.2874, -1.0102],\n",
       "        [-0.6075,  0.2705,  2.6664,  0.6931,  0.0638],\n",
       "        [ 1.4288,  0.7259,  0.6825, -0.3944, -0.6059],\n",
       "        [ 1.9628,  0.5206,  0.9744,  0.9233, -1.0599],\n",
       "        [ 0.1671,  0.1588,  1.0891, -1.0431,  0.7525],\n",
       "        [ 0.6019, -0.2995,  1.8935,  0.4532, -0.1608],\n",
       "        [ 1.0094,  0.5069,  0.2051,  0.1202, -0.7838]], device='cuda:0')"
      ]
     },
     "execution_count": 8,
     "metadata": {},
     "output_type": "execute_result"
    }
   ],
   "source": [
    "features[feature_indices].jdata"
   ]
  },
  {
   "cell_type": "markdown",
   "metadata": {},
   "source": [
    "But beyond just looking up the elements directly, we can use higher-level ƒVDB functionality like sampling what the values are at a given worldspace position.\n",
    "\n",
    "Let's get the data values at the worldspace positions used earlier in the lesson:"
   ]
  },
  {
   "cell_type": "code",
   "execution_count": 14,
   "metadata": {},
   "outputs": [
    {
     "name": "stdout",
     "output_type": "stream",
     "text": [
      "World position [315.8, -125.8, -14.9] \n",
      "\thas the values: [2.924, -0.969, 1.498, 0.891, -0.507, 0.987, -0.504, -0.267, 0.044, 0.014, 1.327, 0.303, 0.396, 0.014, -0.919, -0.056, 0.187, 1.027, 1.654, -0.106, 1.279, 1.695, -0.335, -0.024, 0.477, -0.93, -0.288, -0.021, -1.86, -0.529, -0.652, 0.965, -0.539, -0.813, -0.191, 0.74, -0.097, -1.428, 1.463, -0.552, -0.314, -0.601, 1.253, -1.332, 0.548, -0.198, -0.258, 0.713, -1.523, 0.941, 1.271, -0.556, -1.744, -1.993, 2.215, 0.047, -1.439, 0.849, -1.311, -0.1, 0.507, 1.357, 1.809, -0.158, 0.59, 1.116, 0.32, 1.116, -1.458, 0.97, -0.113, -0.274, 0.806, -0.237, 2.3, 0.131, -0.394, -0.473, 0.899, -1.126, 1.059, 0.777, 0.878, 0.695, 1.818, -0.334, -2.8, 1.102, -1.446, 2.523, -0.578, -0.766, -1.062, 0.038, 0.806, -0.832, 0.536, -0.574, 0.153, 1.091, -0.16, -2.215, 0.054, -1.426, 0.472, -0.082, 1.681, 0.482, -1.556, -0.209, -1.056, -0.581, -1.32, -1.058, 0.364, 0.339, -1.477, -0.189, -1.292, 0.174, 0.647, 0.54, 0.178, -0.855, 0.739, 0.866, -1.147, -0.071, -0.565, 0.585, 1.021, -0.079, 1.019, -1.225, 1.123, 0.893, -0.326, -1.675, 0.22, -0.4, -0.322, 0.423, -0.255, -0.118, -0.052, 1.813, -0.977, 1.502, 0.766, 0.629, -0.354, 0.006, -1.304, 0.087, 0.8, 1.581, -0.824, -0.88, -0.515, 1.197, 0.084, -0.016, 0.298, -0.384, 0.017, -0.938, 0.123, 0.374, 0.272, 0.271, 0.532, -0.695, -0.48, 1.751, 0.007, -0.873, 1.205, 1.059, 0.358, 0.294, 0.879, 0.904, -0.937, -0.098, -0.346, -1.915, -0.874, -1.135, 0.6, -1.126, -0.311, 0.945]\n",
      "World position [-310.1, -9.4, 60.8] \n",
      "\thas the values: [1.491, -3.071, -0.435, -0.106, -0.153, 0.636, -0.596, -0.155, 1.244, 0.232, -0.556, -0.741, -0.135, -0.142, 2.743, 1.218, 0.773, 0.73, -0.271, -0.142, 1.992, 1.195, 0.442, 0.407, 0.345, 0.039, -0.595, 1.185, 0.329, 0.954, 0.112, -0.698, -0.761, -0.719, -0.841, -0.014, -1.085, 0.461, -0.704, 0.374, -1.982, 0.229, 0.553, -0.128, 1.701, 1.743, 0.078, 1.154, 0.35, 1.162, 0.252, -0.471, 0.662, -0.579, -0.854, 0.109, 0.864, 1.265, 0.97, 0.619, 0.152, -0.826, -1.205, 1.057, 0.351, -1.251, 0.279, -0.228, -1.058, 0.531, 0.172, 0.619, -0.759, 0.779, 0.573, 0.632, -0.876, -0.221, -1.486, 0.674, 0.489, 0.856, -0.92, -0.27, -0.254, -0.222, -2.223, 0.44, 0.195, 0.148, -1.17, 0.609, -1.161, -0.052, 0.122, 1.555, -0.297, -0.061, 1.036, 0.861, 0.31, -1.428, 0.48, 0.084, -0.524, 0.448, 0.953, 1.138, 1.259, -0.871, -0.038, -0.288, 0.792, 1.528, -1.639, -0.246, 1.751, 0.115, 0.464, 1.464, -1.698, -0.215, -0.316, 1.785, -1.408, 0.673, -0.445, -0.451, -0.357, 0.595, -0.591, -1.572, 1.018, 0.096, -1.275, 0.005, 0.988, 1.38, -0.294, 0.654, -0.675, -0.406, 0.403, -0.302, -0.306, 0.831, 0.021, -0.159, 0.932, 0.163, -0.217, -0.803, -1.174, -0.72, 0.396, -2.507, 0.167, 0.163, 1.089, -1.436, 0.376, -0.08, 0.525, -1.046, 0.295, -1.086, 1.291, 0.73, 0.427, -0.425, -0.645, 0.51, 1.934, 0.154, 1.567, -1.866, 0.353, -0.574, -1.482, -0.591, 1.244, 0.299, 1.213, -0.94, 1.625, 0.361, -0.651, -1.073, 2.074, 0.321, 0.484, 2.305]\n",
      "World position [-20.0, -277.8, 176.6] \n",
      "\thas the values: [-1.09, 0.989, -0.326, -1.477, -0.191, 0.391, -1.399, 0.564, 0.341, 1.509, -1.318, -0.427, 1.249, 0.61, 1.037, 0.803, -0.738, 0.136, -1.048, 0.125, -0.406, 2.338, -0.033, -0.2, -0.867, -0.134, -1.803, 0.379, 0.432, -0.026, 0.092, 1.289, 1.38, -0.061, -0.976, 1.288, 0.0, -2.647, -0.373, 1.814, -1.002, 0.889, -1.217, -0.676, 0.568, -0.554, -0.092, 0.216, -1.339, 0.427, -0.21, -0.248, 0.349, 0.853, 2.671, 0.46, 2.109, -1.976, 0.48, 0.024, -0.378, -0.468, 0.842, 0.785, -0.072, 0.466, 0.91, 0.138, -0.21, -0.062, -0.269, 1.563, 0.589, -0.746, 1.899, 0.6, 0.018, -0.414, -2.828, 1.532, 1.179, 0.575, 0.217, -0.497, -0.133, 1.826, 1.198, 1.052, -1.574, 1.345, 0.622, -1.068, 1.331, 1.169, -0.186, 0.545, 0.708, -0.612, -1.234, 1.289, 0.983, -1.189, 1.413, -0.541, 1.244, -0.964, -0.372, -0.207, -0.794, -0.083, -1.121, -0.787, 1.08, -1.653, 0.373, -1.845, -0.926, 0.059, 0.827, 0.607, -0.237, 0.83, -0.518, -0.415, 2.199, 0.274, -0.915, 1.779, -0.22, -0.019, -0.397, 0.106, -0.892, -0.071, 1.056, 0.389, -0.022, -0.472, 0.135, 0.154, 1.354, 2.411, -0.401, -1.972, -0.644, -0.325, 0.078, 0.884, 0.8, 2.062, 0.151, -1.951, 0.877, 0.648, 1.151, 1.993, -0.243, -1.598, -0.914, -0.843, -0.095, 0.598, 0.197, -1.254, 1.179, 0.67, -2.172, 0.7, 0.898, 0.431, 0.835, -1.936, -0.427, -0.283, -0.987, 0.713, -0.485, -0.422, -1.116, -0.537, 0.44, -0.069, 0.171, -0.068, 0.347, 0.575, 0.873, -0.05, -0.967, -0.236, 2.39, -1.281]\n",
      "World position [-10.8, -33.3, 132.8] \n",
      "\thas the values: [-0.178, -0.052, -0.562, -1.264, 0.03, 0.106, 0.947, -0.762, -1.478, 0.539, 1.128, 0.18, 0.844, 1.684, -0.684, 0.508, 1.149, 1.067, -0.251, 0.067, -0.037, 0.206, 0.309, 0.176, -1.761, -0.156, 0.235, -0.049, -0.866, -0.146, -1.028, -0.653, 2.728, -1.345, 2.834, 0.591, -1.277, 0.864, -0.445, -0.129, -1.196, -2.084, -0.763, -0.34, -0.304, 0.898, -1.668, 0.942, 0.076, -0.534, 0.778, -0.298, -0.463, -0.125, 2.873, 1.231, -0.358, 0.191, 0.025, 0.081, 0.479, -0.839, 0.058, -0.431, 0.687, -0.17, 0.022, -1.282, -0.633, 0.23, -0.889, 1.959, -0.636, 1.308, -0.631, -0.441, 0.309, -0.616, -0.759, -1.209, 0.156, -1.64, -0.376, 0.535, -0.609, 0.282, 0.361, 0.416, 0.776, 0.283, -1.83, -0.504, 0.066, 0.597, -1.034, 0.797, -0.398, -1.999, 0.691, 0.607, -1.166, 0.481, 0.395, -1.28, -0.302, 0.85, 0.841, -0.533, 1.274, 0.973, 1.627, 0.489, -1.2, -0.943, -0.376, 1.03, 1.185, -0.05, 0.352, -2.448, 0.11, -0.151, 0.166, -1.343, -1.181, 0.306, 0.606, 0.575, 0.011, -0.189, -1.595, -0.484, 0.216, -1.287, 0.341, 1.181, -1.249, 0.372, 0.622, 0.751, 0.444, 0.089, -0.166, -0.031, 0.98, -1.007, 0.227, -0.084, 1.738, -0.552, 1.327, -0.344, 0.461, -0.336, -0.216, 0.955, -1.947, -0.071, -1.737, -0.254, -0.605, -1.027, -1.859, -0.641, -0.187, -1.379, -0.947, 1.119, 0.477, -0.021, 0.869, -0.317, 0.722, 0.976, 0.899, 0.493, -0.931, -0.72, -1.891, 1.628, 0.564, 1.294, 0.264, 1.097, -0.34, -1.16, -1.181, 1.572, -0.404, -0.279, 0.322, -1.192]\n",
      "World position [-35.0, -83.5, -187.8] \n",
      "\thas the values: [-0.933, -2.681, 0.994, 0.843, -1.134, 0.206, 0.512, 1.232, -0.449, -2.139, -1.344, -1.114, -1.003, 1.149, 0.006, 1.231, -2.309, -0.212, -0.593, -0.849, -0.988, -0.816, -0.273, -0.818, 0.273, 0.342, 0.387, 1.628, -1.191, -0.5, -0.195, 0.394, -0.517, 1.356, -0.289, -2.388, 0.129, 0.105, 1.447, 0.009, -0.367, -1.718, 0.462, -0.604, -0.994, -0.093, 0.25, -0.592, -0.104, 0.306, 0.374, 0.688, 0.556, 0.351, -0.296, 0.702, 0.064, -0.963, -1.336, 0.239, 0.231, 0.266, -0.258, -0.834, -1.22, -0.508, 0.951, 0.37, -0.142, -0.49, 0.048, 0.098, 1.594, 0.22, 0.336, -1.085, -0.167, 0.345, 1.288, 1.359, -0.82, -1.147, 0.819, 0.064, 0.805, 0.433, 2.099, -0.101, 0.828, -0.15, -0.026, 0.09, -0.739, -1.321, 0.728, 0.769, -0.883, -0.193, -0.997, 1.189, -0.194, 0.084, -0.651, 1.477, -0.013, -0.385, -1.94, -0.582, 0.051, -1.798, -2.365, -1.32, -1.425, -2.241, 0.127, -0.633, -1.528, -0.708, 0.416, 1.828, 0.098, 1.053, 0.104, -0.528, 1.461, 0.775, 0.052, 1.746, -1.022, -0.569, -1.493, 0.45, -1.033, 2.27, 0.353, -0.714, 0.045, -1.066, 0.555, -0.739, 0.215, -0.132, -1.26, -0.02, 0.059, -0.293, -0.131, -1.45, 0.935, -0.051, 1.502, 0.86, 0.976, -0.226, 0.424, -1.356, -0.297, -0.854, -1.199, -0.212, -0.22, 0.835, 0.792, 0.328, -1.624, -1.337, -1.571, 1.835, 0.589, 1.081, 0.262, -0.326, 2.469, 0.883, 0.333, -0.029, 0.327, -0.832, 0.841, -0.299, 0.292, 1.04, -1.502, 1.108, -0.575, -0.855, 1.031, 1.579, -1.348, 0.492, -2.344, 1.062]\n",
      "World position [215.7, 152.4, 44.0] \n",
      "\thas the values: [0.359, 1.534, 1.211, -1.749, -1.123, -0.989, -0.294, 3.567, 0.143, -0.758, -2.116, -0.793, -1.121, -1.82, -1.383, -1.516, 0.067, -0.464, 1.946, 0.355, -1.738, 1.376, -0.025, 0.571, -0.263, -0.408, -1.096, -0.536, 0.412, 1.082, 0.594, -0.853, -0.469, 0.031, 1.485, 1.89, -0.481, 0.023, 0.908, -0.635, 1.029, -0.749, -1.875, -1.107, -0.979, 0.863, -0.056, -0.429, 0.4, 0.191, 1.37, 0.626, -1.554, -0.263, -0.42, 0.102, 1.195, -1.85, -1.234, 2.748, 1.939, -0.207, -0.849, -0.615, -1.011, 0.78, 0.949, 1.909, 1.564, -1.754, -0.408, -0.022, 2.152, -0.91, -0.163, 0.061, -1.095, -0.675, 0.357, -1.233, 0.283, -0.952, -0.972, -0.882, 1.354, -0.089, 1.06, -0.224, 0.157, -0.229, -0.425, 1.493, 0.951, 0.756, 0.631, 0.968, 1.242, 0.939, -1.421, 0.037, 1.102, -0.021, 0.159, -1.312, 0.894, -0.859, 0.514, 1.254, 1.422, 0.063, 0.82, -1.019, -0.142, 0.196, 1.238, -1.219, 0.432, -0.395, -0.114, -0.896, 2.281, -0.786, -1.769, 1.596, 0.453, -0.858, -1.452, 0.738, -0.722, 1.437, -0.094, 0.944, 1.567, -0.532, -0.463, -1.728, 2.75, -0.115, -0.128, 1.03, 0.975, -0.139, -0.282, -0.61, 0.408, -0.486, 1.218, 1.184, 0.017, -0.736, 0.401, -0.404, 0.049, 0.806, -0.346, 1.571, 1.844, 0.43, -0.236, 1.235, -2.455, 0.705, 0.145, 1.246, 0.537, 0.264, 1.804, 0.113, 1.659, -0.772, -1.264, -0.843, -0.106, -2.139, 0.464, 2.495, -1.068, 0.852, 0.279, -0.685, 2.227, -0.955, -0.05, -0.558, -0.015, 0.117, -0.016, 0.104, 0.506, 1.563, 0.225, -0.695]\n",
      "World position [-3.5, 41.8, 88.7] \n",
      "\thas the values: [0.544, -0.704, 0.651, 1.219, -0.366, -0.567, -0.357, 0.907, 1.305, 0.237, 1.044, -1.812, -1.541, 0.976, -0.652, -0.853, -0.532, -0.258, -0.416, -0.227, -0.7, -0.618, -0.24, 1.281, 1.428, 0.069, 1.54, 0.07, 0.357, 0.11, 1.668, 1.834, -0.506, 2.178, 0.766, -1.091, -0.732, 1.337, 0.905, -0.349, -0.864, 0.56, -0.144, -0.91, -1.408, 0.508, 0.066, 0.951, -1.288, -1.594, -0.179, 0.745, -3.088, 0.498, -1.05, 0.405, -1.353, -1.369, 0.515, 0.143, 1.402, 0.586, 1.677, 0.859, -0.433, -0.264, -0.233, 1.029, -0.907, -0.138, -1.269, -0.364, 0.704, 0.828, -1.42, 0.287, 1.237, -0.525, 0.922, 1.192, 0.08, -1.028, 0.733, -1.344, -0.04, -0.027, -1.563, -0.524, -0.081, 0.297, -1.184, -1.468, 0.967, -0.97, -0.918, -1.095, -0.346, -0.702, -0.582, -0.739, 1.742, 0.331, 0.761, 0.413, 1.177, -1.501, 2.524, 0.879, 0.202, 1.446, -0.897, -0.402, -1.909, 2.144, 1.686, -0.407, 0.263, -1.748, 1.918, -0.165, 1.816, 0.058, 1.093, 0.588, -0.01, -0.673, -1.173, -1.319, 0.41, 1.819, -0.095, 1.241, 0.359, -0.324, -0.824, -0.867, -0.685, -1.606, 1.713, 0.53, -1.305, 0.904, -1.036, -0.984, 0.358, 0.247, 0.062, -1.367, 0.63, -0.145, -1.484, 0.517, 0.304, -0.243, 0.128, -0.775, 0.796, -0.837, 0.839, 0.028, -2.535, -0.255, 2.3, -1.456, 0.138, -1.569, 0.048, 0.227, 1.215, 0.073, 1.638, -0.214, 0.37, 0.363, 1.972, -0.364, 0.233, 0.279, 0.769, 0.916, 0.009, 0.909, -0.528, -0.423, 0.303, -1.627, -0.196, 1.492, -1.404, 1.554, 1.947, 0.569]\n",
      "World position [-168.8, -143.5, 452.2] \n",
      "\thas the values: [0.244, -0.975, -0.194, 0.219, 0.04, 1.491, 0.305, -0.752, 0.522, -1.402, 1.199, 0.405, -2.854, 0.898, -0.06, -1.145, -0.013, -0.342, -0.231, -0.646, -0.221, 0.413, -0.122, 0.872, -0.192, 0.64, -0.98, 2.051, 1.272, 1.439, -0.915, -0.507, -0.823, 2.081, 0.319, -1.741, 0.596, -0.51, 0.734, 0.317, -0.176, -1.222, 1.101, 1.51, -0.177, -1.666, -0.076, -0.45, 0.21, 0.894, 1.315, -0.404, -0.267, -1.333, -0.317, -1.341, 0.388, 1.077, 1.084, 0.188, -0.756, -0.984, 1.361, 1.235, 1.269, 0.624, -0.4, 0.188, 0.373, -0.153, -0.571, -1.709, -1.837, -1.973, -0.118, 1.758, 0.03, 0.665, 0.382, 0.776, 0.069, -0.316, -0.347, 0.306, 0.377, 0.924, -0.032, 1.734, -0.691, 0.236, -0.698, -1.623, 1.46, 0.851, 0.833, 1.654, 1.655, -0.015, -0.162, 0.042, -0.773, 0.303, 0.364, 0.115, -0.787, -1.475, 0.358, -0.838, 1.726, 1.731, -0.399, 0.197, 1.465, -0.056, 0.463, 2.02, -1.263, -0.095, 0.882, -0.515, -1.211, 0.716, 0.782, -1.075, -1.182, 1.133, -0.759, -1.111, -0.59, -1.539, 0.872, -0.774, 0.224, 1.633, 0.378, 0.43, 0.439, -1.594, 0.297, 1.138, -0.677, -0.644, 0.356, 2.312, -0.116, -1.375, 0.36, -1.761, 0.269, 0.878, -1.095, -1.412, -1.599, -0.56, -0.406, 0.15, -0.178, -1.252, -1.617, 1.134, -0.474, -0.145, 0.125, 0.56, 0.359, -0.121, 0.263, -0.321, 0.202, -1.46, 0.012, 0.895, 0.594, 0.42, 0.866, -1.57, 0.892, -1.405, 1.241, -3.042, 1.62, 1.389, -0.657, -1.786, -1.326, 0.399, -0.686, 1.095, -0.144, 0.619, 0.78, -0.345]\n"
     ]
    }
   ],
   "source": [
    "sampled_features = grid_batch.sample_trilinear(world_positions, features)\n",
    "\n",
    "\n",
    "for xyz, value in zip(world_positions.jdata, sampled_features.jdata):\n",
    "    print(f\"World position {[round(num, 1) for num in xyz.tolist()]} \\n\\thas the values: {[round(num, 3) for num in value.tolist()]}\")"
   ]
  },
  {
   "cell_type": "markdown",
   "metadata": {},
   "source": [
    "### JaggedTensor Implementation Details\n",
    "\n",
    "\n",
    "Internally, `JaggedTensor` does not represent the list of features as a list of differently sized PyTorch tensors, but instead stores a single tensor of the element data accompanied by a special index structure that allows us to access the data for each grid in the `GridBatch`.  \n",
    "\n",
    "The `jdata` attribute of a `JaggedTensor` contains all the element values in this single list.  `jdata` is a `Tensor` of shape $[N, E]$ where $N$ is the total number of active voxels in the batch and $E$ is the element size.  \n",
    "\n",
    "`jdata`'s shape would be equivalent to the result of concatenating the list of heterogeneously sized Tensors, mentioned above, along their first axis into a single Tensor whose shape would be $[B1+B2+B3…+Bn, E]$.\n",
    "\n",
    "<center>\n",
    "\n",
    "<img src = \"img/jdata.jpg\" width=1200 alt=\"jdata\">\n",
    "\n",
    "</center>"
   ]
  },
  {
   "cell_type": "code",
   "execution_count": 15,
   "metadata": {},
   "outputs": [
    {
     "name": "stdout",
     "output_type": "stream",
     "text": [
      "size of element data for the entire GridBatch: torch.Size([4133, 192])\n"
     ]
    }
   ],
   "source": [
    "print(f\"size of element data for the entire GridBatch: {features.jdata.shape}\")"
   ]
  },
  {
   "cell_type": "markdown",
   "metadata": {},
   "source": [
    "To determine which grid each element belongs to, `JaggedTensor` contains indexing information in its `jidx` attribute.\n",
    "\n",
    "`jidx` is a `Tensor` of shape $[N]$ where $N$ is again the total number of active voxels across the batch.  Each member of `jidx` is an integer that tells us which grid in the `GridBatch` the corresponding element in `jdata` belongs to.  The grid membership in `jidx` is ordered starting from 0 and members of the same batch are contiguous.\n",
    "\n",
    "<center>\n",
    "\n",
    "<img src = \"img/jidx.jpg\" width=1200 alt=\"jdata\">\n",
    "\n",
    "</center>"
   ]
  },
  {
   "cell_type": "code",
   "execution_count": 17,
   "metadata": {},
   "outputs": [
    {
     "name": "stdout",
     "output_type": "stream",
     "text": [
      "per-element membership for each voxel in the GridBatch: tensor([0, 0, 0,  ..., 7, 7, 7], device='cuda:0', dtype=torch.int32)\n",
      "\n",
      "the size of the elements of the 4th grid in this batch: torch.Size([978, 192])\n"
     ]
    }
   ],
   "source": [
    "print(f\"per-element membership for each voxel in the GridBatch: {features.jidx}\")\n",
    "print(f\"\\nthe size of the elements of the 4th grid in this batch: {features.jdata[features.jidx==3].shape}\")"
   ]
  },
  {
   "cell_type": "markdown",
   "metadata": {},
   "source": [
    "Additionally, `JaggedTensor` has a `joffsets` attribute that can also be used to index into `jdata` to get the element data for each grid in the batch.\n",
    "\n",
    "The `joffsets` attribute is a `Tensor` of shape $[B]$, where $B$ is the number of grids in the batch.  `joffset`'s values are the start offsets into `jdata` that corresponds to each grid in the batch.  This is essentially the same information that can be found in `jidx` but expressed in a different form.\n",
    "\n",
    "<center>\n",
    "\n",
    "<img src = \"img/joffsets.jpg\" width=1200 alt=\"jdata\">\n",
    "\n",
    "</center>"
   ]
  },
  {
   "cell_type": "code",
   "execution_count": 18,
   "metadata": {},
   "outputs": [
    {
     "name": "stdout",
     "output_type": "stream",
     "text": [
      "per-grid offsets into the data:\n",
      "tensor([   0,  154,  639,  984, 1962, 2499, 2790, 3784, 4133], device='cuda:0')\n",
      "\n",
      "the size of the elements of the 4th grid in this batch: torch.Size([978, 192])\n"
     ]
    }
   ],
   "source": [
    "print(\"per-grid offsets into the data:\")\n",
    "print(features.joffsets)\n",
    "print(f\"\\nthe size of the elements of the 4th grid in this batch: {features.jdata[features.joffsets[3]:features.joffsets[3+1]].shape}\")"
   ]
  },
  {
   "cell_type": "markdown",
   "metadata": {},
   "source": [
    "The element data stored in a `JaggedTensor` can be of any type that PyTorch supports, including float, float64, float16, bfloat16, int, etc., and the elements can have any arbitrary size.  In fact, elements can contain multi-dimensional tensor data.\n",
    "\n",
    "For instance, there could be a `JaggedTensor` with 1 float that represents a signed distance field in each grid, or float elements of size 3 that represent an RGB color in each voxel of the grids, or elements of shape (3,3) representing 3x3 matrices, or float elements of length 192 that represent a learned feature vector of each voxel in each grid."
   ]
  },
  {
   "cell_type": "code",
   "execution_count": 20,
   "metadata": {},
   "outputs": [],
   "source": [
    "# A single scalar element per voxel\n",
    "features = grid_batch.jagged_like(torch.randn(grid_batch.total_voxels, 1, dtype=torch.float, device=grid_batch.device))\n",
    "\n",
    "# Cast to a double\n",
    "features = features.double()\n",
    "\n",
    "# A JaggedTensor of 3x3 matrices for element data\n",
    "features = grid_batch.jagged_like(torch.randn(grid_batch.total_voxels, 3, 3, dtype=torch.float, device=grid_batch.device))\n",
    "\n",
    "# A JaggedTensor of 192 float elements\n",
    "features = grid_batch.jagged_like(torch.randn(grid_batch.total_voxels, 192, dtype=torch.float, device=grid_batch.device))"
   ]
  }
 ],
 "metadata": {
  "kernelspec": {
   "display_name": "fvdb_exec",
   "language": "python",
   "name": "python3"
  },
  "language_info": {
   "codemirror_mode": {
    "name": "ipython",
    "version": 3
   },
   "file_extension": ".py",
   "mimetype": "text/x-python",
   "name": "python",
   "nbconvert_exporter": "python",
   "pygments_lexer": "ipython3",
   "version": "3.10.15"
  }
 },
 "nbformat": 4,
 "nbformat_minor": 2
}
